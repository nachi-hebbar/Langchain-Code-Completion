{
  "nbformat": 4,
  "nbformat_minor": 0,
  "metadata": {
    "colab": {
      "provenance": []
    },
    "kernelspec": {
      "name": "python3",
      "display_name": "Python 3"
    },
    "language_info": {
      "name": "python"
    }
  },
  "cells": [
    {
      "cell_type": "code",
      "execution_count": null,
      "metadata": {
        "id": "rSXlm2kBTDis"
      },
      "outputs": [],
      "source": [
        "!pip install langchain openai"
      ]
    },
    {
      "cell_type": "code",
      "source": [
        "import os,langchain,openai\n",
        "from langchain.agents.agent_toolkits import create_python_agent\n",
        "from langchain.llms import OpenAI\n",
        "from langchain.agents import load_tools,initialize_agent\n",
        "from langchain.tools.python.tool import PythonREPLTool"
      ],
      "metadata": {
        "id": "g7DTnWmXTJzF"
      },
      "execution_count": null,
      "outputs": []
    },
    {
      "cell_type": "markdown",
      "source": [
        "Provide your OpenAI API keys"
      ],
      "metadata": {
        "id": "ZGotBqf3Cc-_"
      }
    },
    {
      "cell_type": "code",
      "source": [
        "os.environ[\"OPENAI_API_KEY\"] = 'your-api-key'"
      ],
      "metadata": {
        "id": "GhAags2sTaLU"
      },
      "execution_count": null,
      "outputs": []
    },
    {
      "cell_type": "markdown",
      "source": [
        "Initialize LLM Model"
      ],
      "metadata": {
        "id": "FyZzw50eCgK0"
      }
    },
    {
      "cell_type": "code",
      "source": [
        "llm=OpenAI(temperature=0,model_name=\"gpt-3.5-turbo\")"
      ],
      "metadata": {
        "colab": {
          "base_uri": "https://localhost:8080/"
        },
        "id": "di_9oUyTTj-j",
        "outputId": "c50eabc3-0598-4bf7-a9c1-636978e8f1e4"
      },
      "execution_count": null,
      "outputs": [
        {
          "output_type": "stream",
          "name": "stderr",
          "text": [
            "/usr/local/lib/python3.10/dist-packages/langchain/llms/openai.py:173: UserWarning: You are trying to use a chat model. This way of initializing it is no longer supported. Instead, please use: `from langchain.chat_models import ChatOpenAI`\n",
            "  warnings.warn(\n",
            "/usr/local/lib/python3.10/dist-packages/langchain/llms/openai.py:753: UserWarning: You are trying to use a chat model. This way of initializing it is no longer supported. Instead, please use: `from langchain.chat_models import ChatOpenAI`\n",
            "  warnings.warn(\n"
          ]
        }
      ]
    },
    {
      "cell_type": "markdown",
      "source": [
        "Create A Python Agent"
      ],
      "metadata": {
        "id": "1I4emKm5WxRr"
      }
    },
    {
      "cell_type": "code",
      "source": [
        "agent = create_python_agent(\n",
        "    llm,\n",
        "    tool=PythonREPLTool(),\n",
        "    verbose=True\n",
        ")"
      ],
      "metadata": {
        "id": "aCsKoo68Tlfy"
      },
      "execution_count": null,
      "outputs": []
    },
    {
      "cell_type": "code",
      "source": [
        "input_list=[\"Nachiketa\",17,\"Ayush\",20,\"Rahul\",30]\n"
      ],
      "metadata": {
        "id": "4CdKgJuRTppi"
      },
      "execution_count": null,
      "outputs": []
    },
    {
      "cell_type": "markdown",
      "source": [
        "Do Programming Tasks\n"
      ],
      "metadata": {
        "id": "65yARWGbVCzC"
      }
    },
    {
      "cell_type": "code",
      "source": [
        "#use langchain debug mode to see detailed list of operations done\n",
        "langchain.debug=True\n",
        "agent.run(f\"\"\"Given the input list {input_list}, convert it \\\n",
        "into a dictionary where the keys are the names occuring at even indices and \\\n",
        "the values are the roll number occuring at odd indices\"\"\")"
      ],
      "metadata": {
        "id": "q8drax7OT1Wi"
      },
      "execution_count": null,
      "outputs": []
    },
    {
      "cell_type": "markdown",
      "source": [
        "Get Code Written For You"
      ],
      "metadata": {
        "id": "z8iFMH6GVFI6"
      }
    },
    {
      "cell_type": "code",
      "source": [
        "langchain.debug=False\n",
        "agent.run(f\"\"\"Write a program in Python to print the Fibonacci series using recursive method\"\"\")"
      ],
      "metadata": {
        "id": "s0dDB0TeT6PC"
      },
      "execution_count": null,
      "outputs": []
    },
    {
      "cell_type": "code",
      "source": [],
      "metadata": {
        "id": "_rE8ERa6MadI"
      },
      "execution_count": null,
      "outputs": []
    }
  ]
}